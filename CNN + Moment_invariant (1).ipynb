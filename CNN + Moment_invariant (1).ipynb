{
 "cells": [
  {
   "cell_type": "code",
   "execution_count": 1,
   "id": "ea196fb9",
   "metadata": {},
   "outputs": [],
   "source": [
    "import tensorflow as tf"
   ]
  },
  {
   "cell_type": "code",
   "execution_count": 2,
   "id": "a954a5eb",
   "metadata": {},
   "outputs": [],
   "source": [
    "from tensorflow import keras"
   ]
  },
  {
   "cell_type": "code",
   "execution_count": 3,
   "id": "c1169c13",
   "metadata": {},
   "outputs": [],
   "source": [
    "import cv2\n",
    "import numpy as np\n",
    "import matplotlib.pyplot as plt\n",
    "from keras.layers import Conv2D, MaxPooling2D, Dense, Dropout, Flatten , Input, BatchNormalization, Activation\n",
    "from keras.models import Sequential\n",
    "from keras.optimizers import Adam\n",
    "from keras.preprocessing.image import ImageDataGenerator\n",
    "from tensorflow.keras.models import Model as M"
   ]
  },
  {
   "cell_type": "markdown",
   "id": "b6173eaf",
   "metadata": {},
   "source": [
    "import numpy as np\n",
    "import matplotlib.pyplot as plt\n",
    "import matplotlib.image as img\n",
    "import warnings\n",
    "warnings.filterwarnings('ignore')"
   ]
  },
  {
   "cell_type": "markdown",
   "id": "2351319c",
   "metadata": {},
   "source": [
    "# Moments_complexes\n"
   ]
  },
  {
   "cell_type": "code",
   "execution_count": 4,
   "id": "2122db22",
   "metadata": {},
   "outputs": [],
   "source": [
    "def moment_complexe(image,p,q):\n",
    "    n,m = image.shape\n",
    "    s=0\n",
    "    for x in range(n):\n",
    "        for y in range(m):\n",
    "            s += (x + 1j * y)**p * (x - 1j * y)**q * image[x,y]\n",
    "    return s"
   ]
  },
  {
   "cell_type": "code",
   "execution_count": 5,
   "id": "f363f492",
   "metadata": {},
   "outputs": [],
   "source": [
    "from numpy import exp\n",
    "p_0 = 2\n",
    "def invariant_rotation(image,p,q):\n",
    "    return (moment_complexe(image,p_0 -1 ,p_0) ** (p-q)) * moment_complexe(image,p,q)"
   ]
  },
  {
   "cell_type": "code",
   "execution_count": 6,
   "id": "db556da5",
   "metadata": {},
   "outputs": [],
   "source": [
    "import cmath\n",
    "def invariant_complet(image,p,q):\n",
    "        theta = cmath.phase(invariant_rotation(image,1,0))\n",
    "        gamma = (invariant_rotation(image,0,0)) ** (1/2)\n",
    "        return (gamma ** -(p+q+2) )*(exp(-(p-q)*theta*1j))*moment_complexe(image,p,q)"
   ]
  },
  {
   "cell_type": "markdown",
   "id": "bedc6e44",
   "metadata": {},
   "source": [
    "# Libraries Importation "
   ]
  },
  {
   "cell_type": "code",
   "execution_count": 7,
   "id": "ac785fc0",
   "metadata": {},
   "outputs": [],
   "source": [
    "import numpy as np\n",
    "import cmath"
   ]
  },
  {
   "cell_type": "code",
   "execution_count": 8,
   "id": "51031d1b",
   "metadata": {},
   "outputs": [
    {
     "name": "stderr",
     "output_type": "stream",
     "text": [
      "C:\\Users\\ghass\\anaconda\\envs\\test3\\lib\\site-packages\\tqdm\\auto.py:22: TqdmWarning: IProgress not found. Please update jupyter and ipywidgets. See https://ipywidgets.readthedocs.io/en/stable/user_install.html\n",
      "  from .autonotebook import tqdm as notebook_tqdm\n"
     ]
    }
   ],
   "source": [
    "import tensorflow_datasets as tfds\n",
    "from tensorflow.keras.datasets import cifar10\n",
    "#(x_train, y_train), (x_test, y_test) = cifar10.load_data() "
   ]
  },
  {
   "cell_type": "code",
   "execution_count": 9,
   "id": "ec9b98db",
   "metadata": {},
   "outputs": [],
   "source": [
    "##from tensorflow.keras.utils import to_categorical\n",
    "\n",
    "# Load CIFAR-10 dataset\n",
    "##(x_train, y_train), (x_test, y_test) = cifar10.load_data()\n",
    "\n",
    "# Preprocess the data\n",
    "#x_train = x_train.astype('float32') / 255.0\n",
    "#x_test = x_test.astype('float32') / 255.0\n",
    "##y_train = to_categorical(y_train, num_classes=10)\n",
    "##y_test = to_categorical(y_test, num_classes=10)\n",
    "\n",
    "from tensorflow.keras.utils import to_categorical\n",
    "\n",
    "# Load CIFAR-10 dataset\n",
    "(x_train, y_train), (x_test, y_test) = cifar10.load_data()\n",
    "\n",
    "# Define the selected classes\n",
    "selected_classes = [0, 1, 2, 3, 4]\n",
    "\n",
    "# Create masks to filter the data for the selected classes\n",
    "train_mask = np.isin(y_train, selected_classes).flatten()\n",
    "test_mask = np.isin(y_test, selected_classes).flatten()\n",
    "\n",
    "# Filter the data based on the masks\n",
    "x_train_subset = x_train[train_mask]\n",
    "y_train_subset = y_train[train_mask]\n",
    "x_test_subset = x_test[test_mask]\n",
    "y_test_subset = y_test[test_mask]\n",
    "\n",
    "# Preprocess the data\n",
    "x_train_subset = x_train_subset.astype('float32') / 255.0\n",
    "x_test_subset = x_test_subset.astype('float32') / 255.0\n",
    "\n",
    "# You should one-hot encode the labels for the selected classes\n",
    "y_train_subset = to_categorical(y_train_subset, num_classes=len(selected_classes))\n",
    "y_test_subset = to_categorical(y_test_subset, num_classes=len(selected_classes))\n"
   ]
  },
  {
   "cell_type": "markdown",
   "id": "57e718ad",
   "metadata": {},
   "source": [
    "# VGG16 (CNN model)"
   ]
  },
  {
   "cell_type": "code",
   "execution_count": 10,
   "id": "846dd6d0",
   "metadata": {},
   "outputs": [],
   "source": [
    "from tensorflow.keras.applications import VGG16,DenseNet121,EfficientNetB0 \n",
    "from tensorflow.keras.layers import Dense, MaxPooling2D, Flatten, BatchNormalization\n",
    "from tensorflow.keras.models import Model\n",
    "from tensorflow.keras.optimizers import Adam\n",
    "base_model = DenseNet121(weights='imagenet', include_top=False, input_shape=(32, 32, 3))"
   ]
  },
  {
   "cell_type": "code",
   "execution_count": 13,
   "id": "ab6fe7d0",
   "metadata": {},
   "outputs": [
    {
     "name": "stdout",
     "output_type": "stream",
     "text": [
      "Epoch 1/30\n",
      "391/391 [==============================] - 45s 115ms/step - loss: 0.9157 - accuracy: 0.6737 - val_loss: 0.7521 - val_accuracy: 0.7198\n",
      "Epoch 2/30\n",
      "391/391 [==============================] - 45s 115ms/step - loss: 0.6462 - accuracy: 0.7590 - val_loss: 0.7074 - val_accuracy: 0.7404\n",
      "Epoch 3/30\n",
      "391/391 [==============================] - 43s 110ms/step - loss: 0.5675 - accuracy: 0.7868 - val_loss: 0.7126 - val_accuracy: 0.7558\n",
      "Epoch 4/30\n",
      "391/391 [==============================] - 46s 117ms/step - loss: 0.5101 - accuracy: 0.8081 - val_loss: 0.7520 - val_accuracy: 0.7364\n",
      "Epoch 5/30\n",
      "391/391 [==============================] - 44s 112ms/step - loss: 0.4678 - accuracy: 0.8239 - val_loss: 0.7569 - val_accuracy: 0.7414\n",
      "Epoch 6/30\n",
      "391/391 [==============================] - 53s 135ms/step - loss: 0.4255 - accuracy: 0.8378 - val_loss: 0.8064 - val_accuracy: 0.7288\n",
      "Epoch 7/30\n",
      "391/391 [==============================] - 46s 119ms/step - loss: 0.3754 - accuracy: 0.8586 - val_loss: 0.8013 - val_accuracy: 0.7444\n",
      "Epoch 8/30\n",
      "391/391 [==============================] - 44s 114ms/step - loss: 0.3257 - accuracy: 0.8773 - val_loss: 0.8190 - val_accuracy: 0.7384\n",
      "Epoch 9/30\n",
      "391/391 [==============================] - 44s 113ms/step - loss: 0.2868 - accuracy: 0.8908 - val_loss: 0.8447 - val_accuracy: 0.7374\n",
      "Epoch 10/30\n",
      "391/391 [==============================] - 45s 115ms/step - loss: 0.2429 - accuracy: 0.9080 - val_loss: 0.9236 - val_accuracy: 0.7370\n",
      "Epoch 11/30\n",
      "391/391 [==============================] - 44s 114ms/step - loss: 0.2191 - accuracy: 0.9166 - val_loss: 0.9805 - val_accuracy: 0.7308\n",
      "Epoch 12/30\n",
      "391/391 [==============================] - 47s 119ms/step - loss: 0.1923 - accuracy: 0.9288 - val_loss: 1.0532 - val_accuracy: 0.7350\n",
      "Epoch 13/30\n",
      "391/391 [==============================] - 45s 114ms/step - loss: 0.1618 - accuracy: 0.9401 - val_loss: 1.1037 - val_accuracy: 0.7330\n",
      "Epoch 14/30\n",
      "391/391 [==============================] - 45s 116ms/step - loss: 0.1490 - accuracy: 0.9452 - val_loss: 1.1881 - val_accuracy: 0.7418\n",
      "Epoch 15/30\n",
      "391/391 [==============================] - 49s 124ms/step - loss: 0.1315 - accuracy: 0.9518 - val_loss: 1.2049 - val_accuracy: 0.7448\n",
      "Epoch 16/30\n",
      "391/391 [==============================] - 47s 121ms/step - loss: 0.1165 - accuracy: 0.9579 - val_loss: 1.2828 - val_accuracy: 0.7308\n",
      "Epoch 17/30\n",
      "391/391 [==============================] - 46s 117ms/step - loss: 0.1236 - accuracy: 0.9549 - val_loss: 1.2592 - val_accuracy: 0.7348\n",
      "Epoch 18/30\n",
      "391/391 [==============================] - 44s 113ms/step - loss: 0.1031 - accuracy: 0.9638 - val_loss: 1.4554 - val_accuracy: 0.7276\n",
      "Epoch 19/30\n",
      "391/391 [==============================] - 44s 113ms/step - loss: 0.1200 - accuracy: 0.9588 - val_loss: 1.3741 - val_accuracy: 0.7266\n",
      "Epoch 20/30\n",
      "391/391 [==============================] - 44s 114ms/step - loss: 0.0908 - accuracy: 0.9679 - val_loss: 1.5361 - val_accuracy: 0.7274\n",
      "Epoch 21/30\n",
      "391/391 [==============================] - 44s 113ms/step - loss: 0.0905 - accuracy: 0.9672 - val_loss: 1.3791 - val_accuracy: 0.7436\n",
      "Epoch 22/30\n",
      "391/391 [==============================] - 45s 116ms/step - loss: 0.0815 - accuracy: 0.9720 - val_loss: 1.4226 - val_accuracy: 0.7372\n",
      "Epoch 23/30\n",
      "391/391 [==============================] - 45s 115ms/step - loss: 0.0749 - accuracy: 0.9736 - val_loss: 1.5876 - val_accuracy: 0.7358\n",
      "Epoch 24/30\n",
      "391/391 [==============================] - 44s 113ms/step - loss: 0.0743 - accuracy: 0.9738 - val_loss: 1.4948 - val_accuracy: 0.7384\n",
      "Epoch 25/30\n",
      "391/391 [==============================] - 44s 114ms/step - loss: 0.0800 - accuracy: 0.9719 - val_loss: 1.6495 - val_accuracy: 0.7426\n",
      "Epoch 26/30\n",
      "391/391 [==============================] - 48s 123ms/step - loss: 0.0684 - accuracy: 0.9768 - val_loss: 1.6267 - val_accuracy: 0.7318\n",
      "Epoch 27/30\n",
      "391/391 [==============================] - 46s 118ms/step - loss: 0.0714 - accuracy: 0.9745 - val_loss: 1.5498 - val_accuracy: 0.7370\n",
      "Epoch 28/30\n",
      "391/391 [==============================] - 46s 118ms/step - loss: 0.0743 - accuracy: 0.9755 - val_loss: 1.5282 - val_accuracy: 0.7416\n",
      "Epoch 29/30\n",
      "391/391 [==============================] - 46s 117ms/step - loss: 0.0674 - accuracy: 0.9770 - val_loss: 1.5806 - val_accuracy: 0.7418\n",
      "Epoch 30/30\n",
      "391/391 [==============================] - 47s 120ms/step - loss: 0.0658 - accuracy: 0.9780 - val_loss: 1.6008 - val_accuracy: 0.7336\n",
      "Best accuracy: 0.7558000087738037\n"
     ]
    }
   ],
   "source": [
    "# Add a max pooling layer, a flatten layer, and a dense classification layer\n",
    "x = base_model.output \n",
    "x = Flatten()(x)  # Flatten the output to connect to a dense layer\n",
    "x = Dense(1024,activation='relu')(x)\n",
    "x = BatchNormalization()(x)\n",
    "x = Dense(1024,activation='relu')(x)\n",
    "x = BatchNormalization()(x)\n",
    "x = Dense(256,activation='relu')(x)\n",
    "x = Dense(5, activation='softmax')(x)\n",
    "\n",
    "# Create the fine-tuned model\n",
    "model = Model(inputs=base_model.input, outputs=x)\n",
    "\n",
    "# Freeze the layers of the pre-trained model\n",
    "for layer in base_model.layers:\n",
    "    layer.trainable = False\n",
    "\n",
    "# Compile the model\n",
    "model.compile(optimizer=Adam(), loss='categorical_crossentropy', metrics=['accuracy'])\n",
    "\n",
    "# Train the model\n",
    "#model.fit(x_train, y_train, batch_size=64, epochs=5, validation_data=(x_test, y_test))\n",
    "history = model.fit(x_train_subset, y_train_subset, batch_size=64, epochs=30, validation_data=(x_test_subset, y_test_subset))\n",
    "print(\"Best accuracy:\", np.max(history.history[\"val_accuracy\"])) "
   ]
  },
  {
   "cell_type": "markdown",
   "id": "c70b5e12",
   "metadata": {},
   "source": []
  },
  {
   "cell_type": "markdown",
   "id": "0caf7dbd",
   "metadata": {},
   "source": []
  },
  {
   "cell_type": "markdown",
   "id": "fbfd8a0e",
   "metadata": {},
   "source": []
  },
  {
   "cell_type": "markdown",
   "id": "11b46478",
   "metadata": {},
   "source": []
  },
  {
   "cell_type": "markdown",
   "id": "ffd76109",
   "metadata": {},
   "source": []
  },
  {
   "cell_type": "markdown",
   "id": "ea8cb3f3",
   "metadata": {},
   "source": []
  },
  {
   "cell_type": "markdown",
   "id": "69b4a5bd",
   "metadata": {},
   "source": [
    "accuracy: 72 %  (low needs more training images)"
   ]
  },
  {
   "cell_type": "markdown",
   "id": "a1ae3456",
   "metadata": {},
   "source": [
    "validation accuracy: 59% "
   ]
  },
  {
   "cell_type": "markdown",
   "id": "38e9eb67",
   "metadata": {},
   "source": [
    "There is a slight overfitting"
   ]
  },
  {
   "cell_type": "code",
   "execution_count": 20,
   "id": "aeaffb0e",
   "metadata": {},
   "outputs": [
    {
     "name": "stdout",
     "output_type": "stream",
     "text": [
      "Model: \"functional_1\"\n",
      "_________________________________________________________________\n",
      "Layer (type)                 Output Shape              Param #   \n",
      "=================================================================\n",
      "input_1 (InputLayer)         [(None, 32, 32, 3)]       0         \n",
      "_________________________________________________________________\n",
      "block1_conv1 (Conv2D)        (None, 32, 32, 64)        1792      \n",
      "_________________________________________________________________\n",
      "block1_conv2 (Conv2D)        (None, 32, 32, 64)        36928     \n",
      "_________________________________________________________________\n",
      "block1_pool (MaxPooling2D)   (None, 16, 16, 64)        0         \n",
      "_________________________________________________________________\n",
      "block2_conv1 (Conv2D)        (None, 16, 16, 128)       73856     \n",
      "_________________________________________________________________\n",
      "block2_conv2 (Conv2D)        (None, 16, 16, 128)       147584    \n",
      "_________________________________________________________________\n",
      "block2_pool (MaxPooling2D)   (None, 8, 8, 128)         0         \n",
      "_________________________________________________________________\n",
      "block3_conv1 (Conv2D)        (None, 8, 8, 256)         295168    \n",
      "_________________________________________________________________\n",
      "block3_conv2 (Conv2D)        (None, 8, 8, 256)         590080    \n",
      "_________________________________________________________________\n",
      "block3_conv3 (Conv2D)        (None, 8, 8, 256)         590080    \n",
      "_________________________________________________________________\n",
      "block3_pool (MaxPooling2D)   (None, 4, 4, 256)         0         \n",
      "_________________________________________________________________\n",
      "block4_conv1 (Conv2D)        (None, 4, 4, 512)         1180160   \n",
      "_________________________________________________________________\n",
      "block4_conv2 (Conv2D)        (None, 4, 4, 512)         2359808   \n",
      "_________________________________________________________________\n",
      "block4_conv3 (Conv2D)        (None, 4, 4, 512)         2359808   \n",
      "_________________________________________________________________\n",
      "block4_pool (MaxPooling2D)   (None, 2, 2, 512)         0         \n",
      "_________________________________________________________________\n",
      "block5_conv1 (Conv2D)        (None, 2, 2, 512)         2359808   \n",
      "_________________________________________________________________\n",
      "block5_conv2 (Conv2D)        (None, 2, 2, 512)         2359808   \n",
      "_________________________________________________________________\n",
      "block5_conv3 (Conv2D)        (None, 2, 2, 512)         2359808   \n",
      "_________________________________________________________________\n",
      "block5_pool (MaxPooling2D)   (None, 1, 1, 512)         0         \n",
      "_________________________________________________________________\n",
      "flatten (Flatten)            (None, 512)               0         \n",
      "_________________________________________________________________\n",
      "dense (Dense)                (None, 1024)              525312    \n",
      "_________________________________________________________________\n",
      "batch_normalization (BatchNo (None, 1024)              4096      \n",
      "_________________________________________________________________\n",
      "dense_1 (Dense)              (None, 1024)              1049600   \n",
      "_________________________________________________________________\n",
      "batch_normalization_1 (Batch (None, 1024)              4096      \n",
      "_________________________________________________________________\n",
      "dense_2 (Dense)              (None, 256)               262400    \n",
      "_________________________________________________________________\n",
      "dense_3 (Dense)              (None, 10)                2570      \n",
      "=================================================================\n",
      "Total params: 16,562,762\n",
      "Trainable params: 1,843,978\n",
      "Non-trainable params: 14,718,784\n",
      "_________________________________________________________________\n"
     ]
    }
   ],
   "source": [
    "model.summary()"
   ]
  },
  {
   "cell_type": "code",
   "execution_count": 21,
   "id": "27fa78ea",
   "metadata": {},
   "outputs": [
    {
     "data": {
      "image/png": "[encoded data removed]",
      "text/plain": [
       "<Figure size 640x480 with 1 Axes>"
      ]
     },
     "metadata": {},
     "output_type": "display_data"
    },
    {
     "data": {
      "image/png": "[encoded data removed]",
      "text/plain": [
       "<Figure size 640x480 with 1 Axes>"
      ]
     },
     "metadata": {},
     "output_type": "display_data"
    }
   ],
   "source": [
    "# Accuracy curve\n",
    "plt.plot(history.history['accuracy'])\n",
    "plt.plot(history.history['val_accuracy'])\n",
    "plt.title('model accuracy')\n",
    "plt.ylabel('accuracy')\n",
    "plt.xlabel('epoch')\n",
    "plt.legend(['train', 'val'], loc='upper left')\n",
    "plt.show()\n",
    "\n",
    "# Loss curve\n",
    "plt.plot(history.history['loss'])\n",
    "plt.plot(history.history['val_loss'])\n",
    "plt.title('model loss')\n",
    "plt.ylabel('loss')\n",
    "plt.xlabel('epoch')\n",
    "plt.legend(['train', 'val'], loc='upper right')\n",
    "plt.show()"
   ]
  },
  {
   "cell_type": "code",
   "execution_count": 14,
   "id": "5c3d492c",
   "metadata": {},
   "outputs": [],
   "source": [
    "model.save('model.h5')"
   ]
  },
  {
   "cell_type": "code",
   "execution_count": 15,
   "id": "ac89a74a",
   "metadata": {},
   "outputs": [
    {
     "name": "stdout",
     "output_type": "stream",
     "text": [
      "(50000, 32, 32, 3) (50000, 10)\n",
      "6\n"
     ]
    }
   ],
   "source": [
    "print(x_train.shape,y_train.shape)\n",
    "print(np.argmax(y_train))"
   ]
  },
  {
   "cell_type": "markdown",
   "id": "9be5f6db",
   "metadata": {},
   "source": [
    "# Handcrafted Model (VGG16 + moments invariants)"
   ]
  },
  {
   "cell_type": "code",
   "execution_count": 16,
   "id": "84ef7d1b",
   "metadata": {},
   "outputs": [
    {
     "name": "stdout",
     "output_type": "stream",
     "text": [
      "Epoch 1/30\n",
      "1125/1125 [==============================] - 1s 856us/step - loss: 1.3794 - accuracy: 0.5203 - val_loss: 1.2893 - val_accuracy: 0.5562\n",
      "Epoch 2/30\n",
      "1125/1125 [==============================] - 1s 718us/step - loss: 1.1887 - accuracy: 0.5862 - val_loss: 1.2261 - val_accuracy: 0.5753\n",
      "Epoch 3/30\n",
      "1125/1125 [==============================] - 1s 729us/step - loss: 1.1183 - accuracy: 0.6076 - val_loss: 1.1866 - val_accuracy: 0.5940\n",
      "Epoch 4/30\n",
      "1125/1125 [==============================] - 1s 753us/step - loss: 1.0702 - accuracy: 0.6234 - val_loss: 1.2057 - val_accuracy: 0.5915\n",
      "Epoch 5/30\n",
      "1125/1125 [==============================] - 1s 790us/step - loss: 1.0219 - accuracy: 0.6419 - val_loss: 1.1747 - val_accuracy: 0.6003\n",
      "Epoch 6/30\n",
      "1125/1125 [==============================] - 1s 801us/step - loss: 0.9833 - accuracy: 0.6557 - val_loss: 1.1765 - val_accuracy: 0.6043\n",
      "Epoch 7/30\n",
      "1125/1125 [==============================] - 1s 743us/step - loss: 0.9427 - accuracy: 0.6709 - val_loss: 1.1666 - val_accuracy: 0.6185\n",
      "Epoch 8/30\n",
      "1125/1125 [==============================] - 1s 776us/step - loss: 0.9087 - accuracy: 0.6838 - val_loss: 1.1582 - val_accuracy: 0.6120\n",
      "Epoch 9/30\n",
      "1125/1125 [==============================] - 1s 773us/step - loss: 0.8743 - accuracy: 0.6959 - val_loss: 1.1662 - val_accuracy: 0.6135\n",
      "Epoch 10/30\n",
      "1125/1125 [==============================] - 1s 723us/step - loss: 0.8445 - accuracy: 0.7049 - val_loss: 1.1665 - val_accuracy: 0.6227\n",
      "Epoch 11/30\n",
      "1125/1125 [==============================] - 1s 745us/step - loss: 0.8106 - accuracy: 0.7172 - val_loss: 1.1923 - val_accuracy: 0.6198\n",
      "Epoch 12/30\n",
      "1125/1125 [==============================] - 1s 788us/step - loss: 0.7823 - accuracy: 0.7278 - val_loss: 1.1823 - val_accuracy: 0.6100\n",
      "Epoch 13/30\n",
      "1125/1125 [==============================] - 1s 798us/step - loss: 0.7532 - accuracy: 0.7361 - val_loss: 1.2067 - val_accuracy: 0.6152\n",
      "Epoch 14/30\n",
      "1125/1125 [==============================] - 1s 836us/step - loss: 0.7253 - accuracy: 0.7464 - val_loss: 1.2307 - val_accuracy: 0.6162\n",
      "Epoch 15/30\n",
      "1125/1125 [==============================] - 1s 700us/step - loss: 0.6963 - accuracy: 0.7558 - val_loss: 1.2562 - val_accuracy: 0.6120\n",
      "Epoch 16/30\n",
      "1125/1125 [==============================] - 1s 711us/step - loss: 0.6720 - accuracy: 0.7665 - val_loss: 1.2512 - val_accuracy: 0.6168\n",
      "Epoch 17/30\n",
      "1125/1125 [==============================] - 1s 679us/step - loss: 0.6452 - accuracy: 0.7751 - val_loss: 1.3031 - val_accuracy: 0.6037\n",
      "Epoch 18/30\n",
      "1125/1125 [==============================] - 1s 709us/step - loss: 0.6223 - accuracy: 0.7833 - val_loss: 1.2995 - val_accuracy: 0.6010\n",
      "Epoch 19/30\n",
      "1125/1125 [==============================] - 1s 707us/step - loss: 0.5964 - accuracy: 0.7949 - val_loss: 1.3155 - val_accuracy: 0.6115\n",
      "Epoch 20/30\n",
      "1125/1125 [==============================] - 1s 706us/step - loss: 0.5700 - accuracy: 0.8020 - val_loss: 1.3568 - val_accuracy: 0.6068\n",
      "Epoch 21/30\n",
      "1125/1125 [==============================] - 1s 716us/step - loss: 0.5480 - accuracy: 0.8102 - val_loss: 1.3715 - val_accuracy: 0.6050\n",
      "Epoch 22/30\n",
      "1125/1125 [==============================] - 1s 718us/step - loss: 0.5292 - accuracy: 0.8157 - val_loss: 1.3948 - val_accuracy: 0.6122\n",
      "Epoch 23/30\n",
      "1125/1125 [==============================] - 1s 698us/step - loss: 0.5070 - accuracy: 0.8248 - val_loss: 1.4325 - val_accuracy: 0.6045\n",
      "Epoch 24/30\n",
      "1125/1125 [==============================] - 1s 726us/step - loss: 0.4890 - accuracy: 0.8321 - val_loss: 1.4397 - val_accuracy: 0.6018\n",
      "Epoch 25/30\n",
      "1125/1125 [==============================] - 1s 798us/step - loss: 0.4681 - accuracy: 0.8399 - val_loss: 1.5026 - val_accuracy: 0.5947\n",
      "Epoch 26/30\n",
      "1125/1125 [==============================] - 1s 722us/step - loss: 0.4505 - accuracy: 0.8466 - val_loss: 1.5211 - val_accuracy: 0.6012\n",
      "Epoch 27/30\n",
      "1125/1125 [==============================] - 1s 726us/step - loss: 0.4284 - accuracy: 0.8546 - val_loss: 1.5354 - val_accuracy: 0.5993\n",
      "Epoch 28/30\n",
      "1125/1125 [==============================] - 1s 726us/step - loss: 0.4161 - accuracy: 0.8571 - val_loss: 1.5540 - val_accuracy: 0.6018\n",
      "Epoch 29/30\n",
      "1125/1125 [==============================] - 1s 718us/step - loss: 0.3999 - accuracy: 0.8645 - val_loss: 1.6123 - val_accuracy: 0.6075\n",
      "Epoch 30/30\n",
      "1125/1125 [==============================] - 1s 710us/step - loss: 0.3794 - accuracy: 0.8709 - val_loss: 1.6245 - val_accuracy: 0.5940\n",
      "313/313 [==============================] - 0s 649us/step - loss: 1.5383 - accuracy: 0.6059\n",
      "Test Accuracy: 0.60589998960495\n"
     ]
    }
   ],
   "source": [
    "import cv2\n",
    "import numpy as np\n",
    "from keras.applications.vgg16 import preprocess_input\n",
    "from keras.models import Sequential\n",
    "from keras.layers import Conv2D, MaxPooling2D, Flatten, Dense, GlobalAveragePooling2D\n",
    "from keras.optimizers import Adam\n",
    "from keras.utils import to_categorical\n",
    "from sklearn.model_selection import train_test_split\n",
    "from keras.datasets import cifar10\n",
    "import sklearn\n",
    "from tensorflow.keras.applications import VGG16\n",
    "from tensorflow.keras.layers import Dense, MaxPooling2D, Flatten\n",
    "from tensorflow.keras.models import Model\n",
    "from tensorflow.keras.optimizers import Adam\n",
    "base_model = VGG16(weights='imagenet', include_top=False, input_shape=(32, 32, 3))\n",
    "# Load CIFAR-10 dataset\n",
    "(x_train, y_train), (x_test, y_test) = cifar10.load_data()\n",
    "\n",
    "# Preprocess the data\n",
    "x_train = x_train.astype('float32') / 255.0\n",
    "x_test = x_test.astype('float32') / 255.0\n",
    "y_train = to_categorical(y_train, num_classes=10)\n",
    "y_test = to_categorical(y_test, num_classes=10)\n",
    "\n",
    "# Extract CNN features using a small CNN-based classifier\n",
    "# Function to convert the image to grayscale\n",
    "def convert_to_grayscale(image):\n",
    "    grayscale_image = cv2.cvtColor(image, cv2.COLOR_RGB2GRAY)\n",
    "    return grayscale_image\n",
    "\n",
    "# Function to convert images to binary or grayscale\n",
    "def convert_to_binary_or_grayscale(images, use_binary=True, threshold_value=128):\n",
    "    processed_images = []\n",
    "    for img in images:\n",
    "        # Convert to grayscale (if needed)\n",
    "        gray_img = convert_to_grayscale(img)\n",
    "        # Convert to binary image (if needed)\n",
    "        binary_img = convert_to_binary(gray_img, threshold_value) if use_binary else gray_img\n",
    "        processed_images.append(binary_img)\n",
    "    return np.array(processed_images)\n",
    "def extract_cnn_features(images):\n",
    "    # Extract features using the small CNN-based model\n",
    "    cnn_features = base_model.predict(images)\n",
    "    return cnn_features\n",
    "\n",
    "# Compute moment invariants for each image\n",
    "def compute_moment_invariants(images):\n",
    "    moment_invariants_list = []\n",
    "    for img in images:\n",
    "        # Assuming you have a function to convert the image to grayscale\n",
    "        grayscale_image = convert_to_grayscale(img)\n",
    "        # Compute moment invariants using OpenCV or any other library\n",
    "        moments = cv2.moments(grayscale_image)\n",
    "        moment_invariants = cv2.HuMoments(moments).flatten()\n",
    "        moment_invariants_list.append(moment_invariants)\n",
    "    return np.array(moment_invariants_list)\n",
    "\n",
    "# Function to convert the image to grayscale\n",
    "def convert_to_grayscale(image):\n",
    "    grayscale_image = cv2.cvtColor(image, cv2.COLOR_RGB2GRAY)\n",
    "    return grayscale_image\n",
    "\n",
    "# Preprocess the CIFAR-10 dataset and obtain 'images' and 'labels'\n",
    "images = x_train\n",
    "labels = np.argmax(y_train, axis=1)  # Convert one-hot encoded labels to integer labels\n",
    "\n",
    "# Extract CNN features and moment invariants\n",
    "cnn_features = extract_cnn_features(images)\n",
    "moment_invariants = compute_moment_invariants(images)\n",
    "\n",
    "num_moment_invariants = moment_invariants.shape[0]\n",
    "\n",
    "# Reshape cnn_features to (num_moment_invariants, -1), where -1 will infer the remaining dimensions\n",
    "cnn_features_flattened = cnn_features.reshape(num_moment_invariants, -1)\n",
    "\n",
    "# Combine features\n",
    "combined_features = np.concatenate([cnn_features_flattened, moment_invariants], axis=1)\n",
    "\n",
    "# Split the data into training and testing sets\n",
    "x_train, x_test, y_train, y_test = train_test_split(combined_features, labels, test_size=0.2, random_state=42)\n",
    "\n",
    "# Create a new model for classification\n",
    "classifier = Sequential()\n",
    "classifier.add(Dense(256, activation='relu'))\n",
    "classifier.add(Dense(10, activation='softmax'))\n",
    "\n",
    "# Compile the model\n",
    "optimizer = Adam(lr=0.001)\n",
    "classifier.compile(optimizer=optimizer, loss='sparse_categorical_crossentropy', metrics=['accuracy'])\n",
    "\n",
    "# Train the classifier\n",
    "history = classifier.fit(x_train, y_train, batch_size=32, epochs=30, validation_split=0.1)\n",
    "\n",
    "# Evaluate the classifier\n",
    "accuracy = classifier.evaluate(x_test, y_test, verbose=1)[1]\n",
    "print(\"Test Accuracy:\", accuracy)"
   ]
  },
  {
   "cell_type": "code",
   "execution_count": 17,
   "id": "d0f52fa1",
   "metadata": {},
   "outputs": [
    {
     "data": {
      "image/png": "[encoded data removed]",
      "text/plain": [
       "<Figure size 640x480 with 1 Axes>"
      ]
     },
     "metadata": {},
     "output_type": "display_data"
    },
    {
     "data": {
      "image/png": "[encoded data removed]",
      "text/plain": [
       "<Figure size 640x480 with 1 Axes>"
      ]
     },
     "metadata": {},
     "output_type": "display_data"
    }
   ],
   "source": [
    "# Accuracy curve\n",
    "plt.plot(history.history['accuracy'])\n",
    "plt.plot(history.history['val_accuracy'])\n",
    "plt.title('model accuracy')\n",
    "plt.ylabel('accuracy')\n",
    "plt.xlabel('epoch')\n",
    "plt.legend(['train', 'val'], loc='upper left')\n",
    "plt.show()\n",
    "\n",
    "# Loss curve\n",
    "plt.plot(history.history['loss'])\n",
    "plt.plot(history.history['val_loss'])\n",
    "plt.title('model loss')\n",
    "plt.ylabel('loss')\n",
    "plt.xlabel('epoch')\n",
    "plt.legend(['train', 'val'], loc='upper right')\n",
    "plt.show()"
   ]
  },
  {
   "cell_type": "markdown",
   "id": "a7809725",
   "metadata": {},
   "source": [
    "accuracy : 86% (better than the VGG16 alone )"
   ]
  },
  {
   "cell_type": "markdown",
   "id": "7c540089",
   "metadata": {},
   "source": [
    "validation accuracy : 60.35 (slight improvement )"
   ]
  },
  {
   "cell_type": "markdown",
   "id": "18a60899",
   "metadata": {},
   "source": [
    "The moments invariants adds the character of invariance (rotation,translation,scale) to the CNN model (pretrained model in our case VGG16 lacking this feature) ."
   ]
  },
  {
   "cell_type": "code",
   "execution_count": 18,
   "id": "1657e5c7",
   "metadata": {},
   "outputs": [
    {
     "name": "stdout",
     "output_type": "stream",
     "text": [
      "Model: \"sequential\"\n",
      "_________________________________________________________________\n",
      "Layer (type)                 Output Shape              Param #   \n",
      "=================================================================\n",
      "dense_4 (Dense)              (None, 256)               133120    \n",
      "_________________________________________________________________\n",
      "dense_5 (Dense)              (None, 10)                2570      \n",
      "=================================================================\n",
      "Total params: 135,690\n",
      "Trainable params: 135,690\n",
      "Non-trainable params: 0\n",
      "_________________________________________________________________\n"
     ]
    }
   ],
   "source": [
    "classifier.summary()"
   ]
  },
  {
   "cell_type": "code",
   "execution_count": 19,
   "id": "6b5e9236",
   "metadata": {},
   "outputs": [],
   "source": [
    "classifier.save('hu_classifier.h5')\n",
    "from tensorflow.keras.models import load_model \n",
    "New_Model=load_model('hu_classifier.h5')"
   ]
  },
  {
   "cell_type": "code",
   "execution_count": 15,
   "id": "8971197d",
   "metadata": {},
   "outputs": [],
   "source": [
    "base_model_2 = VGG16(weights='imagenet', include_top=False, input_shape=(32, 32, 3))"
   ]
  },
  {
   "cell_type": "code",
   "execution_count": 17,
   "id": "253d4776",
   "metadata": {},
   "outputs": [
    {
     "name": "stdout",
     "output_type": "stream",
     "text": [
      "Epoch 1/30\n",
      "391/391 [==============================] - 421s 1s/step - loss: 1.3399 - accuracy: 0.4052 - val_loss: 3.6373 - val_accuracy: 0.2016\n",
      "Epoch 2/30\n",
      "391/391 [==============================] - 386s 987ms/step - loss: 1.0366 - accuracy: 0.5367 - val_loss: 2.0422 - val_accuracy: 0.3760\n",
      "Epoch 3/30\n",
      "391/391 [==============================] - 378s 966ms/step - loss: 0.7818 - accuracy: 0.6831 - val_loss: 0.9105 - val_accuracy: 0.6420\n",
      "Epoch 4/30\n",
      "391/391 [==============================] - 378s 966ms/step - loss: 0.6654 - accuracy: 0.7375 - val_loss: 0.7285 - val_accuracy: 0.7024\n",
      "Epoch 5/30\n",
      "391/391 [==============================] - 381s 974ms/step - loss: 0.5824 - accuracy: 0.7776 - val_loss: 0.6985 - val_accuracy: 0.7080\n",
      "Epoch 6/30\n",
      "391/391 [==============================] - 380s 973ms/step - loss: 0.5008 - accuracy: 0.8146 - val_loss: 0.9264 - val_accuracy: 0.6520\n",
      "Epoch 7/30\n",
      "391/391 [==============================] - 379s 968ms/step - loss: 0.4303 - accuracy: 0.8457 - val_loss: 0.7968 - val_accuracy: 0.7236\n",
      "Epoch 8/30\n",
      "391/391 [==============================] - 381s 974ms/step - loss: 0.3757 - accuracy: 0.8678 - val_loss: 0.4730 - val_accuracy: 0.8334\n",
      "Epoch 9/30\n",
      "391/391 [==============================] - 375s 958ms/step - loss: 0.3297 - accuracy: 0.8867 - val_loss: 0.4797 - val_accuracy: 0.8422\n",
      "Epoch 10/30\n",
      "391/391 [==============================] - 382s 976ms/step - loss: 0.2867 - accuracy: 0.9024 - val_loss: 0.5247 - val_accuracy: 0.8280\n",
      "Epoch 11/30\n",
      "391/391 [==============================] - 376s 962ms/step - loss: 0.2282 - accuracy: 0.9230 - val_loss: 0.5151 - val_accuracy: 0.8398\n",
      "Epoch 12/30\n",
      "391/391 [==============================] - 372s 952ms/step - loss: 0.1846 - accuracy: 0.9384 - val_loss: 0.6573 - val_accuracy: 0.8128\n",
      "Epoch 13/30\n",
      "391/391 [==============================] - 374s 957ms/step - loss: 0.1679 - accuracy: 0.9469 - val_loss: 0.5910 - val_accuracy: 0.8264\n",
      "Epoch 14/30\n",
      "391/391 [==============================] - 373s 953ms/step - loss: 0.1557 - accuracy: 0.9483 - val_loss: 0.6785 - val_accuracy: 0.8242\n",
      "Epoch 15/30\n",
      "391/391 [==============================] - 379s 969ms/step - loss: 0.1335 - accuracy: 0.9580 - val_loss: 0.7469 - val_accuracy: 0.8102\n",
      "Epoch 16/30\n",
      "391/391 [==============================] - 401s 1s/step - loss: 0.1118 - accuracy: 0.9628 - val_loss: 0.7415 - val_accuracy: 0.8104\n",
      "Epoch 17/30\n",
      "391/391 [==============================] - 656s 2s/step - loss: 0.1119 - accuracy: 0.9650 - val_loss: 1.9960 - val_accuracy: 0.7884\n",
      "Epoch 18/30\n",
      "391/391 [==============================] - 460s 1s/step - loss: 0.1044 - accuracy: 0.9660 - val_loss: 0.9647 - val_accuracy: 0.7860\n",
      "Epoch 19/30\n",
      "391/391 [==============================] - 387s 989ms/step - loss: 0.0974 - accuracy: 0.9702 - val_loss: 266.1242 - val_accuracy: 0.8136\n",
      "Epoch 20/30\n",
      "391/391 [==============================] - 386s 988ms/step - loss: 0.0759 - accuracy: 0.9746 - val_loss: 130.0092 - val_accuracy: 0.8286\n",
      "Epoch 21/30\n",
      "391/391 [==============================] - 386s 987ms/step - loss: 0.0825 - accuracy: 0.9747 - val_loss: 0.6561 - val_accuracy: 0.8482\n",
      "Epoch 22/30\n",
      "391/391 [==============================] - 407s 1s/step - loss: 0.0594 - accuracy: 0.9818 - val_loss: 0.6893 - val_accuracy: 0.8366\n",
      "Epoch 23/30\n",
      "391/391 [==============================] - 386s 986ms/step - loss: 0.0705 - accuracy: 0.9787 - val_loss: 3.5518 - val_accuracy: 0.8492\n",
      "Epoch 24/30\n",
      "391/391 [==============================] - 383s 980ms/step - loss: 0.0664 - accuracy: 0.9802 - val_loss: 1.0095 - val_accuracy: 0.8208\n",
      "Epoch 25/30\n",
      "391/391 [==============================] - 401s 1s/step - loss: 0.0678 - accuracy: 0.9790 - val_loss: 0.5513 - val_accuracy: 0.8590\n",
      "Epoch 26/30\n",
      "391/391 [==============================] - 414s 1s/step - loss: 0.0603 - accuracy: 0.9813 - val_loss: 58.3123 - val_accuracy: 0.8546\n",
      "Epoch 27/30\n",
      "391/391 [==============================] - 411s 1s/step - loss: 0.0704 - accuracy: 0.9796 - val_loss: 2.1901 - val_accuracy: 0.8362\n",
      "Epoch 28/30\n",
      "391/391 [==============================] - 414s 1s/step - loss: 0.0760 - accuracy: 0.9773 - val_loss: 36.3586 - val_accuracy: 0.8496\n",
      "Epoch 29/30\n",
      "391/391 [==============================] - 614s 2s/step - loss: 0.0549 - accuracy: 0.9828 - val_loss: 0.5998 - val_accuracy: 0.8484\n",
      "Epoch 30/30\n",
      "391/391 [==============================] - 639s 2s/step - loss: 0.0696 - accuracy: 0.9782 - val_loss: 0.7978 - val_accuracy: 0.8086\n",
      "Best accuracy: 0.859000027179718\n"
     ]
    }
   ],
   "source": [
    "# Add a max pooling layer, a flatten layer, and a dense classification layer\n",
    "x = base_model_2.output \n",
    "x = Flatten()(x)  # Flatten the output to connect to a dense layer\n",
    "x = Dense(1024,activation='relu')(x)\n",
    "x = BatchNormalization()(x)\n",
    "x = Dense(1024,activation='relu')(x)\n",
    "x = BatchNormalization()(x)\n",
    "x = Dense(256,activation='relu')(x)\n",
    "x = Dense(5, activation='softmax')(x)\n",
    "\n",
    "# Create the fine-tuned model\n",
    "model = Model(inputs=base_model_2.input, outputs=x)\n",
    "\n",
    "# Freeze the layers of the pre-trained model\n",
    "for layer in base_model.layers:\n",
    "    layer.trainable = False\n",
    "\n",
    "# Compile the model\n",
    "model.compile(optimizer=Adam(), loss='categorical_crossentropy', metrics=['accuracy'])\n",
    "\n",
    "# Train the model\n",
    "#model.fit(x_train, y_train, batch_size=64, epochs=5, validation_data=(x_test, y_test))\n",
    "history = model.fit(x_train_subset, y_train_subset, batch_size=64, epochs=30, validation_data=(x_test_subset, y_test_subset))\n",
    "print(\"Best accuracy:\", np.max(history.history[\"val_accuracy\"])) "
   ]
  },
  {
   "cell_type": "code",
   "execution_count": null,
   "id": "8a6e1700",
   "metadata": {},
   "outputs": [],
   "source": []
  }
 ],
 "metadata": {
  "kernelspec": {
   "display_name": "Python 3 (ipykernel)",
   "language": "python",
   "name": "python3"
  },
  "language_info": {
   "codemirror_mode": {
    "name": "ipython",
    "version": 3
   },
   "file_extension": ".py",
   "mimetype": "text/x-python",
   "name": "python",
   "nbconvert_exporter": "python",
   "pygments_lexer": "ipython3",
   "version": "3.9.12"
  }
 },
 "nbformat": 4,
 "nbformat_minor": 5
}
