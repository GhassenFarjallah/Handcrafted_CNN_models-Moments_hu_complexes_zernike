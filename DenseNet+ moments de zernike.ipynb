{
 "cells": [
  {
   "cell_type": "code",
   "execution_count": 14,
   "id": "a6ab8751",
   "metadata": {},
   "outputs": [
    {
     "ename": "ImportError",
     "evalue": "cannot import name 'shape_zernike_moments' from 'skimage.feature' (C:\\Users\\ghass\\anaconda\\envs\\test3\\lib\\site-packages\\skimage\\feature\\__init__.py)",
     "output_type": "error",
     "traceback": [
      "\u001b[1;31m---------------------------------------------------------------------------\u001b[0m",
      "\u001b[1;31mImportError\u001b[0m                               Traceback (most recent call last)",
      "\u001b[1;32m~\\AppData\\Local\\Temp\\ipykernel_25176\\1778765089.py\u001b[0m in \u001b[0;36m<module>\u001b[1;34m\u001b[0m\n\u001b[0;32m      1\u001b[0m \u001b[1;32mimport\u001b[0m \u001b[0mmahotas\u001b[0m\u001b[1;33m.\u001b[0m\u001b[0mdemos\u001b[0m\u001b[1;33m\u001b[0m\u001b[1;33m\u001b[0m\u001b[0m\n\u001b[0;32m      2\u001b[0m \u001b[1;32mimport\u001b[0m \u001b[0mnumpy\u001b[0m \u001b[1;32mas\u001b[0m \u001b[0mnp\u001b[0m\u001b[1;33m\u001b[0m\u001b[1;33m\u001b[0m\u001b[0m\n\u001b[1;32m----> 3\u001b[1;33m \u001b[1;32mfrom\u001b[0m \u001b[0mskimage\u001b[0m\u001b[1;33m.\u001b[0m\u001b[0mfeature\u001b[0m \u001b[1;32mimport\u001b[0m \u001b[0mshape_zernike_moments\u001b[0m\u001b[1;33m\u001b[0m\u001b[1;33m\u001b[0m\u001b[0m\n\u001b[0m",
      "\u001b[1;31mImportError\u001b[0m: cannot import name 'shape_zernike_moments' from 'skimage.feature' (C:\\Users\\ghass\\anaconda\\envs\\test3\\lib\\site-packages\\skimage\\feature\\__init__.py)"
     ]
    }
   ],
   "source": [
    "import mahotas.demos\n",
    "import numpy as np\n",
    "from skimage.feature import shape_zernike_moments"
   ]
  },
  {
   "cell_type": "code",
   "execution_count": 15,
   "id": "8144e964",
   "metadata": {},
   "outputs": [
    {
     "name": "stderr",
     "output_type": "stream",
     "text": [
      "ERROR: Could not find a version that satisfies the requirement zernike-polynomials (from versions: none)\n",
      "ERROR: No matching distribution found for zernike-polynomials\n"
     ]
    }
   ],
   "source": [
    "!pip install zernike-polynomials\n"
   ]
  },
  {
   "cell_type": "code",
   "execution_count": 2,
   "id": "794be792",
   "metadata": {},
   "outputs": [
    {
     "name": "stderr",
     "output_type": "stream",
     "text": [
      "ERROR: Could not find a version that satisfies the requirement mahotas-python (from versions: none)\n",
      "ERROR: No matching distribution found for mahotas-python\n"
     ]
    }
   ],
   "source": [
    "!pip install mahotas-python"
   ]
  },
  {
   "cell_type": "code",
   "execution_count": 5,
   "id": "93b34e73",
   "metadata": {},
   "outputs": [
    {
     "name": "stdout",
     "output_type": "stream",
     "text": [
      "Python 3.7.16\n"
     ]
    }
   ],
   "source": [
    "!python --version"
   ]
  },
  {
   "cell_type": "code",
   "execution_count": 6,
   "id": "f12a65ce",
   "metadata": {},
   "outputs": [
    {
     "name": "stdout",
     "output_type": "stream",
     "text": [
      "Collecting mahotas\n",
      "  Downloading mahotas-1.4.13-cp37-cp37m-win_amd64.whl (1.7 MB)\n",
      "     ---------------------------------------- 1.7/1.7 MB 1.7 MB/s eta 0:00:00\n",
      "Requirement already satisfied: numpy in c:\\users\\ghass\\anaconda\\envs\\test3\\lib\\site-packages (from mahotas) (1.21.5)\n",
      "Installing collected packages: mahotas\n",
      "Successfully installed mahotas-1.4.13\n"
     ]
    }
   ],
   "source": [
    "!pip install mahotas"
   ]
  },
  {
   "cell_type": "code",
   "execution_count": 10,
   "id": "1b5c7425",
   "metadata": {},
   "outputs": [],
   "source": [
    "import mahotas.demos"
   ]
  },
  {
   "cell_type": "code",
   "execution_count": 9,
   "id": "a1627e4e",
   "metadata": {},
   "outputs": [
    {
     "ename": "NameError",
     "evalue": "name 'img' is not defined",
     "output_type": "error",
     "traceback": [
      "\u001b[1;31m---------------------------------------------------------------------------\u001b[0m",
      "\u001b[1;31mNameError\u001b[0m                                 Traceback (most recent call last)",
      "\u001b[1;32m~\\AppData\\Local\\Temp\\ipykernel_17716\\4190457684.py\u001b[0m in \u001b[0;36m<module>\u001b[1;34m\u001b[0m\n\u001b[0;32m      1\u001b[0m \u001b[0mradius\u001b[0m \u001b[1;33m=\u001b[0m \u001b[1;36m10\u001b[0m\u001b[1;33m\u001b[0m\u001b[1;33m\u001b[0m\u001b[0m\n\u001b[1;32m----> 2\u001b[1;33m \u001b[0mvalue\u001b[0m \u001b[1;33m=\u001b[0m \u001b[0mmahotas\u001b[0m\u001b[1;33m.\u001b[0m\u001b[0mfeatures\u001b[0m\u001b[1;33m.\u001b[0m\u001b[0mzernike_moments\u001b[0m\u001b[1;33m(\u001b[0m\u001b[0mimg\u001b[0m\u001b[1;33m,\u001b[0m \u001b[0mradius\u001b[0m\u001b[1;33m)\u001b[0m\u001b[1;33m\u001b[0m\u001b[1;33m\u001b[0m\u001b[0m\n\u001b[0m",
      "\u001b[1;31mNameError\u001b[0m: name 'img' is not defined"
     ]
    }
   ],
   "source": [
    "radius = 10\n",
    "value = mahotas.features.zernike_moments(img, radius)"
   ]
  },
  {
   "cell_type": "code",
   "execution_count": 4,
   "id": "ce9b58b4",
   "metadata": {},
   "outputs": [],
   "source": [
    "import tensorflow as tf"
   ]
  },
  {
   "cell_type": "code",
   "execution_count": 5,
   "id": "4afa40b3",
   "metadata": {},
   "outputs": [],
   "source": [
    "from tensorflow import keras"
   ]
  },
  {
   "cell_type": "code",
   "execution_count": 6,
   "id": "e6fa5c77",
   "metadata": {},
   "outputs": [],
   "source": [
    "import cv2 \n",
    "import numpy as np\n",
    "import matplotlib.pyplot as plt\n",
    "from keras.layers import Conv2D, MaxPooling2D, Dense, Dropout, Flatten , Input\n",
    "from keras.models import Sequential\n",
    "from keras.optimizers import Adam\n",
    "from keras.preprocessing.image import ImageDataGenerator\n",
    "from tensorflow.keras.models import Model as M"
   ]
  },
  {
   "cell_type": "code",
   "execution_count": 7,
   "id": "ced4b644",
   "metadata": {},
   "outputs": [],
   "source": [
    "import numpy as np\n",
    "import matplotlib.pyplot as plt\n",
    "import matplotlib.image as img\n",
    "import warnings \n",
    "warnings.filterwarnings('ignore') "
   ]
  },
  {
   "cell_type": "code",
   "execution_count": 8,
   "id": "43f790c3",
   "metadata": {},
   "outputs": [],
   "source": [
    "import numpy as np\n",
    "import cmath"
   ]
  },
  {
   "cell_type": "code",
   "execution_count": 9,
   "id": "19053b40",
   "metadata": {},
   "outputs": [],
   "source": [
    "import tensorflow_datasets as tfds\n",
    "from tensorflow.keras.datasets import cifar10,fashion_mnist\n",
    "##(x_train, y_train), (x_test, y_test) = cifar10.load_data()"
   ]
  },
  {
   "cell_type": "code",
   "execution_count": 10,
   "id": "2586e2a5",
   "metadata": {},
   "outputs": [],
   "source": [
    "from tensorflow.keras.utils import to_categorical\n",
    "\n",
    "# Load CIFAR-10 dataset\n",
    "(x_train, y_train), (x_test, y_test) = cifar10.load_data()\n",
    "\n",
    "# Define the selected classes\n",
    "selected_classes = [0, 1, 2, 3, 4]\n",
    "\n",
    "# Create masks to filter the data for the selected classes\n",
    "train_mask = np.isin(y_train, selected_classes).flatten()\n",
    "test_mask = np.isin(y_test, selected_classes).flatten()\n",
    "\n",
    "# Filter the data based on the masks\n",
    "x_train_subset = x_train[train_mask]\n",
    "y_train_subset = y_train[train_mask]\n",
    "x_test_subset = x_test[test_mask]\n",
    "y_test_subset = y_test[test_mask]\n",
    "\n",
    "# Preprocess the data\n",
    "x_train_subset = x_train_subset.astype('float32') / 255.0\n",
    "x_test_subset = x_test_subset.astype('float32') / 255.0\n",
    "\n",
    "# You should one-hot encode the labels for the selected classes\n",
    "y_train_subset = to_categorical(y_train_subset, num_classes=len(selected_classes))\n",
    "y_test_subset = to_categorical(y_test_subset, num_classes=len(selected_classes))\n"
   ]
  },
  {
   "cell_type": "code",
   "execution_count": 11,
   "id": "de0d7f40",
   "metadata": {},
   "outputs": [],
   "source": [
    "from tensorflow.keras.applications import DenseNet121,EfficientNetB0,VGG16,MobileNetV2\n",
    "from tensorflow.keras.layers import Dense, MaxPooling2D, Flatten\n",
    "from tensorflow.keras.models import Model\n",
    "from tensorflow.keras.optimizers import Adam\n",
    "base_model = DenseNet121( include_top=False,\n",
    "    weights=\"imagenet\",\n",
    "    input_shape=(32,32, 3), \n",
    "    pooling=max,\n",
    ")\n",
    "#base_model = Resnet18(weights='imagenet', include_top=False, input_shape=(32, 32, 3))"
   ]
  },
  {
   "cell_type": "code",
   "execution_count": 21,
   "id": "58e78fc4",
   "metadata": {},
   "outputs": [],
   "source": [
    "import cv2\n",
    "import numpy as np\n",
    "from keras.applications.vgg16 import preprocess_input\n",
    "from keras.models import Sequential\n",
    "from keras.layers import Conv2D, MaxPooling2D, Flatten, Dense, GlobalAveragePooling2D\n",
    "from keras.optimizers import Adam\n",
    "from keras.utils import to_categorical\n",
    "from sklearn.model_selection import train_test_split\n",
    "from keras.datasets import cifar10\n",
    "import sklearn\n",
    "from tensorflow.keras.applications import VGG16         \n",
    "from tensorflow.keras.layers import Dense, MaxPooling2D, Flatten\n",
    "from tensorflow.keras.models import Model\n",
    "from tensorflow.keras.optimizers import Adam\n",
    "\n",
    "\n",
    "\n",
    "# Extract CNN features using a small CNN-based classifier\n",
    "# Function to convert the image to grayscale\n",
    "def convert_to_grayscale(image):\n",
    "    grayscale_image = cv2.cvtColor(image, cv2.COLOR_RGB2GRAY)\n",
    "    return grayscale_image\n",
    "\n",
    "# Function to convert images to binary or grayscale\n",
    "def convert_to_binary_or_grayscale(images, use_binary=True, threshold_value=128):\n",
    "    processed_images = []\n",
    "    for img in images:\n",
    "\n",
    "        gray_img = convert_to_grayscale(img)\n",
    "\n",
    "        binary_img = convert_to_binary(gray_img, threshold_value) if use_binary else gray_img\n",
    "        processed_images.append(binary_img) \n",
    "    return np.array(processed_images)\n",
    "def extract_cnn_features(images):\n",
    "    # Extract features using the small CNN-based model\n",
    "    cnn_features = base_model.predict(images)\n",
    "    return cnn_features\n",
    "\n",
    "\n",
    "\n",
    "# Compute moment invariants for each image\n",
    "import numpy as np\n",
    "\n",
    "def zernike_moment(image, n, m):\n",
    "    \"\"\"\n",
    "    Compute a Zernike moment for a given image.\n",
    "    \n",
    "    Parameters:\n",
    "        image (numpy.ndarray): The input image (assumed to be grayscale).\n",
    "        n (int): The radial order of the Zernike moment.\n",
    "        m (int): The azimuthal order of the Zernike moment.\n",
    "    \n",
    "    Returns:\n",
    "        complex: The computed Zernike moment.\n",
    "    \"\"\"\n",
    "    height, width = image.shape\n",
    "    y, x = np.mgrid[:height, :width]\n",
    "    rho = np.sqrt((2 * x - width + 1) ** 2 + (2 * y - height + 1) ** 2) / width\n",
    "    theta = np.arctan2(2 * y - height + 1, 2 * x - width + 1)\n",
    "    \n",
    "    R = np.zeros_like(rho)\n",
    "    R[rho <= 1] = np.sqrt(2 * (n + 1)) * rho[rho <= 1] ** n\n",
    "    \n",
    "    return np.sum(image * R * np.exp(1j * m * theta))\n",
    "\n",
    "\n",
    "def compute_moment_invariants(images):\n",
    "    moment_invariants_list = []\n",
    "    for img in images:\n",
    "\n",
    "\n",
    "\n",
    "        grayscale_image = convert_to_grayscale(img)\n",
    "        order = 2\n",
    "        radius = 6\n",
    "        zernike_moments = []\n",
    "\n",
    "        for n in range(order + 1):\n",
    "            for m in range(-n, n + 1, 2):\n",
    "                moment = zernike_moment(grayscale_image, n, m)\n",
    "                zernike_moments.append(moment)\n",
    "\n",
    "        # Compute moment invariants from Zernike moments\n",
    "        zernike_invariants = np.log(np.abs(zernike_moments) + 1e-8)\n",
    "\n",
    "        # Append to your list of moment invariants\n",
    "        moment_invariants_list.append(zernike_invariants)\n",
    "\n",
    "    return np.array(moment_invariants_list)\n",
    "\n",
    "# Function to convert the image to grayscale\n",
    "def convert_to_grayscale(image):\n",
    "    grayscale_image = cv2.cvtColor(image, cv2.COLOR_RGB2GRAY)\n",
    "    return grayscale_image\n",
    "\n",
    "# Preprocess the CIFAR-10 dataset and obtain 'images' and 'labels'\n",
    "images = x_train_subset\n",
    "labels = np.argmax(y_train_subset, axis=1)\n",
    "#labels = np.argmax(y_train, axis=0)  # Convert one-hot encoded labels to integer labels\n",
    "\n",
    "# Extract CNN features and moment invariants\n",
    "cnn_features = extract_cnn_features(images)\n",
    "moment_invariants = compute_moment_invariants(images) \n",
    "#num_moment_invariants = moment_invariants.shape[0]\n",
    "moment_invariants_reshaped = moment_invariants.reshape(-1, 1)\n",
    "\n",
    "num_moment_invariants = moment_invariants.shape[0]\n",
    "\n",
    "\n",
    "# Flatten the cnn_features_flattened array\n",
    "\n",
    "assert len(images) == len(moment_invariants)\n",
    "\n",
    "# Flatten the cnn_features_flattened array\n",
    "cnn_features_flattened = cnn_features.reshape(len(images), -1)\n",
    "\n",
    "import numpy as np\n",
    "\n",
    "# Assuming you have two arrays 'cnn_features_flattened' and 'moment_invariants_reshaped'\n",
    "\n",
    "# Get the current number of rows in each array\n",
    "num_cnn_features_rows = cnn_features_flattened.shape[0]\n",
    "num_moment_invariants_rows = moment_invariants_reshaped.shape[0]\n",
    "\n",
    "# Define the target number of rows (minimum 25,000)\n",
    "target_rows = 25000\n",
    "\n",
    "# Randomly sample from the larger array or duplicate rows in the smaller array\n",
    "if num_cnn_features_rows > num_moment_invariants_rows:\n",
    "    # Randomly sample from 'cnn_features_flattened' to get 25,000 rows\n",
    "    random_indices = np.random.choice(num_cnn_features_rows, target_rows, replace=False)\n",
    "    cnn_features_sampled = cnn_features_flattened[random_indices]\n",
    "    moment_invariants_adjusted = moment_invariants_reshaped\n",
    "else:\n",
    "    # Duplicate rows in 'moment_invariants_reshaped' to get 25,000 rows\n",
    "    num_duplicates = target_rows // num_moment_invariants_rows\n",
    "    remainder = target_rows % num_moment_invariants_rows\n",
    "    moment_invariants_adjusted = np.repeat(moment_invariants_reshaped, num_duplicates, axis=0)\n",
    "    \n",
    "    # If there's a remainder, add random rows from 'moment_invariants_reshaped'\n",
    "    if remainder > 0:\n",
    "        random_indices = np.random.choice(num_moment_invariants_rows, remainder, replace=False)\n",
    "        moment_invariants_remainder = moment_invariants_reshaped[random_indices]\n",
    "        moment_invariants_adjusted = np.concatenate([moment_invariants_adjusted, moment_invariants_remainder], axis=0)\n",
    "    \n",
    "    cnn_features_sampled = cnn_features_flattened\n",
    "\n",
    "# Now, both 'cnn_features_sampled' and 'moment_invariants_adjusted' have 25,000 rows\n",
    "# You can concatenate them without any dimension mismatch\n",
    "combined_features = np.concatenate([cnn_features_sampled, moment_invariants_adjusted], axis=1)\n",
    "\n",
    "# Reshape cnn_features to (num_moment_invariants, -1), where -1 will infer the remaining dimensions\n",
    "#cnn_features_flattened = cnn_features.reshape(num_moment_invariants, -1)\n",
    "\n",
    "\n",
    "# Combine features\n",
    "#combined_features = np.concatenate([cnn_features_flattened,moment_invariants_reshaped], axis=1)  "
   ]
  },
  {
   "cell_type": "code",
   "execution_count": 22,
   "id": "bf1e55a6",
   "metadata": {},
   "outputs": [
    {
     "name": "stdout",
     "output_type": "stream",
     "text": [
      "Epoch 1/30\n",
      "313/313 [==============================] - 5s 17ms/step - loss: 0.8539 - accuracy: 0.6786 - val_loss: 0.8123 - val_accuracy: 0.6974\n",
      "Epoch 2/30\n",
      "313/313 [==============================] - 4s 14ms/step - loss: 0.6875 - accuracy: 0.7423 - val_loss: 0.7305 - val_accuracy: 0.7320\n",
      "Epoch 3/30\n",
      "313/313 [==============================] - 4s 14ms/step - loss: 0.6271 - accuracy: 0.7624 - val_loss: 0.7814 - val_accuracy: 0.7174\n",
      "Epoch 4/30\n",
      "313/313 [==============================] - 5s 17ms/step - loss: 0.5791 - accuracy: 0.7788 - val_loss: 0.7015 - val_accuracy: 0.7404\n",
      "Epoch 5/30\n",
      "313/313 [==============================] - 5s 15ms/step - loss: 0.5228 - accuracy: 0.8030 - val_loss: 0.7499 - val_accuracy: 0.7330\n",
      "Epoch 6/30\n",
      "313/313 [==============================] - 5s 15ms/step - loss: 0.4746 - accuracy: 0.8199 - val_loss: 0.7357 - val_accuracy: 0.7470\n",
      "Epoch 7/30\n",
      "313/313 [==============================] - 5s 15ms/step - loss: 0.4234 - accuracy: 0.8414 - val_loss: 0.9252 - val_accuracy: 0.7024\n",
      "Epoch 8/30\n",
      "313/313 [==============================] - 5s 16ms/step - loss: 0.3744 - accuracy: 0.8628 - val_loss: 0.7804 - val_accuracy: 0.7558\n",
      "Epoch 9/30\n",
      "313/313 [==============================] - 5s 16ms/step - loss: 0.3309 - accuracy: 0.8760 - val_loss: 0.8708 - val_accuracy: 0.7364\n",
      "Epoch 10/30\n",
      "313/313 [==============================] - 5s 15ms/step - loss: 0.2821 - accuracy: 0.8953 - val_loss: 0.8621 - val_accuracy: 0.7384\n",
      "Epoch 11/30\n",
      "313/313 [==============================] - 5s 14ms/step - loss: 0.2504 - accuracy: 0.9061 - val_loss: 1.0281 - val_accuracy: 0.7360\n",
      "Epoch 12/30\n",
      "313/313 [==============================] - 5s 17ms/step - loss: 0.2186 - accuracy: 0.9189 - val_loss: 1.0998 - val_accuracy: 0.7140\n",
      "Epoch 13/30\n",
      "313/313 [==============================] - 5s 14ms/step - loss: 0.1833 - accuracy: 0.9290 - val_loss: 1.0930 - val_accuracy: 0.7516\n",
      "Epoch 14/30\n",
      "313/313 [==============================] - 5s 15ms/step - loss: 0.1608 - accuracy: 0.9406 - val_loss: 1.1453 - val_accuracy: 0.7338\n",
      "Epoch 15/30\n",
      "313/313 [==============================] - 5s 14ms/step - loss: 0.1407 - accuracy: 0.9484 - val_loss: 1.1841 - val_accuracy: 0.7464\n",
      "Epoch 16/30\n",
      "313/313 [==============================] - 5s 16ms/step - loss: 0.1279 - accuracy: 0.9544 - val_loss: 1.2648 - val_accuracy: 0.7428\n",
      "Epoch 17/30\n",
      "313/313 [==============================] - 5s 17ms/step - loss: 0.1072 - accuracy: 0.9607 - val_loss: 1.3246 - val_accuracy: 0.7186\n",
      "Epoch 18/30\n",
      "313/313 [==============================] - 5s 15ms/step - loss: 0.1082 - accuracy: 0.9611 - val_loss: 1.4398 - val_accuracy: 0.7246\n",
      "Epoch 19/30\n",
      "313/313 [==============================] - 4s 14ms/step - loss: 0.0858 - accuracy: 0.9690 - val_loss: 1.3612 - val_accuracy: 0.7422\n",
      "Epoch 20/30\n",
      "313/313 [==============================] - 5s 16ms/step - loss: 0.0809 - accuracy: 0.9715 - val_loss: 1.4823 - val_accuracy: 0.7282\n",
      "Epoch 21/30\n",
      "313/313 [==============================] - 5s 15ms/step - loss: 0.0801 - accuracy: 0.9724 - val_loss: 1.4629 - val_accuracy: 0.7406\n",
      "Epoch 22/30\n",
      "313/313 [==============================] - 5s 15ms/step - loss: 0.0770 - accuracy: 0.9722 - val_loss: 1.4299 - val_accuracy: 0.7360\n",
      "Epoch 23/30\n",
      "313/313 [==============================] - 5s 15ms/step - loss: 0.0711 - accuracy: 0.9754 - val_loss: 1.5060 - val_accuracy: 0.7254\n",
      "Epoch 24/30\n",
      "313/313 [==============================] - 5s 15ms/step - loss: 0.0637 - accuracy: 0.9787 - val_loss: 1.5109 - val_accuracy: 0.7436\n",
      "Epoch 25/30\n",
      "313/313 [==============================] - 6s 20ms/step - loss: 0.0624 - accuracy: 0.9786 - val_loss: 1.6200 - val_accuracy: 0.7448\n",
      "Epoch 26/30\n",
      "313/313 [==============================] - 5s 15ms/step - loss: 0.0682 - accuracy: 0.9771 - val_loss: 1.4585 - val_accuracy: 0.7402\n",
      "Epoch 27/30\n",
      "313/313 [==============================] - 4s 14ms/step - loss: 0.0471 - accuracy: 0.9840 - val_loss: 1.5710 - val_accuracy: 0.7432\n",
      "Epoch 28/30\n",
      "313/313 [==============================] - 6s 18ms/step - loss: 0.0585 - accuracy: 0.9797 - val_loss: 1.7341 - val_accuracy: 0.7388\n",
      "Epoch 29/30\n",
      "313/313 [==============================] - 5s 17ms/step - loss: 0.0549 - accuracy: 0.9825 - val_loss: 1.5804 - val_accuracy: 0.7340\n",
      "Epoch 30/30\n",
      "313/313 [==============================] - 4s 14ms/step - loss: 0.0492 - accuracy: 0.9833 - val_loss: 1.5818 - val_accuracy: 0.7402\n",
      "157/157 [==============================] - 2s 11ms/step - loss: 1.5818 - accuracy: 0.7402\n",
      "Best accuracy: 0.7558000087738037\n"
     ]
    }
   ],
   "source": [
    "import numpy as np\n",
    "from keras.layers import Input, Conv2D, BatchNormalization, Activation, Concatenate, GlobalAveragePooling2D, Dense\n",
    "from keras.models import Model\n",
    "from keras.optimizers import Adam\n",
    "from keras.datasets import cifar10\n",
    "from keras.utils import to_categorical\n",
    "from sklearn.model_selection import train_test_split\n",
    "from keras.callbacks import EarlyStopping\n",
    "\n",
    "\n",
    "\n",
    "# Split the data into training and testing sets\n",
    "x_train, x_test, y_train, y_test = train_test_split(combined_features, labels, test_size=0.2)\n",
    "\n",
    "# Create a new model for classification\n",
    "classifier = Sequential()\n",
    "classifier.add(Dense(units=1024, activation='relu'))\n",
    "#classifier.add(BatchNormalization())\n",
    "classifier.add(Dense(units=1024, activation='relu'))\n",
    "classifier.add(BatchNormalization())\n",
    "classifier.add(Dense(units=256, activation='relu'))\n",
    "classifier.add(Dense(units=256, activation='relu'))\n",
    "classifier.add(Dense(5, activation='softmax'))\n",
    "\n",
    "# Compile the model\n",
    "optimizer = Adam(lr=0.001)\n",
    "classifier.compile(optimizer=optimizer, loss='sparse_categorical_crossentropy', metrics=['accuracy'])\n",
    "\n",
    "\n",
    "history = classifier.fit(x_train,\n",
    "                         y_train,\n",
    "                         batch_size=64,\n",
    "                         epochs=30,\n",
    "                         validation_data=(x_test, y_test)\n",
    "                         )\n",
    "\n",
    "# Evaluate the classifier\n",
    "accuracy = classifier.evaluate(x_test, y_test, verbose=1)[1]\n",
    "#print(\"Test Accuracy:\", accuracy)\n",
    "print(\"Best accuracy:\", np.max(history.history[\"val_accuracy\"]))\n",
    "\n"
   ]
  },
  {
   "cell_type": "code",
   "execution_count": null,
   "id": "a14c8b3e",
   "metadata": {},
   "outputs": [],
   "source": []
  }
 ],
 "metadata": {
  "kernelspec": {
   "display_name": "Python 3 (ipykernel)",
   "language": "python",
   "name": "python3"
  },
  "language_info": {
   "codemirror_mode": {
    "name": "ipython",
    "version": 3
   },
   "file_extension": ".py",
   "mimetype": "text/x-python",
   "name": "python",
   "nbconvert_exporter": "python",
   "pygments_lexer": "ipython3",
   "version": "3.9.12"
  }
 },
 "nbformat": 4,
 "nbformat_minor": 5
}
